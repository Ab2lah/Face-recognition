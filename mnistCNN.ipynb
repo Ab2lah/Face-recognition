{
  "nbformat": 4,
  "nbformat_minor": 0,
  "metadata": {
    "colab": {
      "provenance": []
    },
    "kernelspec": {
      "name": "python3",
      "display_name": "Python 3"
    },
    "language_info": {
      "name": "python"
    }
  },
  "cells": [
    {
      "cell_type": "code",
      "metadata": {
        "id": "xrhC3lpj75ur"
      },
      "source": [
        "import tensorflow as tf\n",
        "from tensorflow import keras\n",
        "from tensorflow.keras import datasets, layers, models\n",
        "import matplotlib.pyplot as plt\n",
        "import numpy as np\n",
        "from PIL import Image, ImageOps"
      ],
      "execution_count": null,
      "outputs": []
    },
    {
      "cell_type": "code",
      "metadata": {
        "id": "g_E79YFT8XfV"
      },
      "source": [
        "(x_train, y_train), (x_test, y_test) = datasets.mnist.load_data()"
      ],
      "execution_count": null,
      "outputs": []
    },
    {
      "cell_type": "code",
      "metadata": {
        "colab": {
          "base_uri": "https://localhost:8080/",
          "height": 282
        },
        "id": "ZeZWaZtr8lP9",
        "outputId": "c41b4573-933e-4b01-bcf5-b59b7d6063e3"
      },
      "source": [
        "plt.imshow(x_train[0])\n",
        "print(x_train[0].shape)"
      ],
      "execution_count": null,
      "outputs": [
        {
          "output_type": "stream",
          "name": "stdout",
          "text": [
            "(28, 28)\n"
          ]
        },
        {
          "output_type": "display_data",
          "data": {
            "image/png": "[encoded data removed]",
            "text/plain": [
              "<Figure size 432x288 with 1 Axes>"
            ]
          },
          "metadata": {
            "needs_background": "light"
          }
        }
      ]
    },
    {
      "cell_type": "markdown",
      "metadata": {
        "id": "LHpxNflO82nA"
      },
      "source": [
        "#Normalisation"
      ]
    },
    {
      "cell_type": "code",
      "metadata": {
        "id": "tuAH1t718puM"
      },
      "source": [
        "x_train = x_train/255.0\n",
        "x_test = x_test/255.0\n",
        "\n"
      ],
      "execution_count": null,
      "outputs": []
    },
    {
      "cell_type": "code",
      "metadata": {
        "colab": {
          "base_uri": "https://localhost:8080/"
        },
        "id": "S6RWHqFsM3Wm",
        "outputId": "09e37582-b2e7-4c6e-9d53-d47db4d9831d"
      },
      "source": [
        "print(x_train[0].shape)"
      ],
      "execution_count": null,
      "outputs": [
        {
          "output_type": "stream",
          "name": "stdout",
          "text": [
            "(28, 28)\n"
          ]
        }
      ]
    },
    {
      "cell_type": "markdown",
      "metadata": {
        "id": "mzR9weCC9p3Y"
      },
      "source": [
        "#Creating model"
      ]
    },
    {
      "cell_type": "code",
      "metadata": {
        "id": "RdqelxAR9XLP"
      },
      "source": [
        "model = keras.Sequential([\n",
        "                          keras.Input(shape=(28, 28)),  #may cause error\n",
        "                          layers.Conv1D(28, 3,padding= 'valid', activation='relu'),\n",
        "                          layers.MaxPool1D(),\n",
        "                          layers.Conv1D(56, 3, activation='relu'),\n",
        "                          layers.MaxPool1D(),\n",
        "                          layers.Conv1D(112, 3, activation='relu'),\n",
        "                          layers.Flatten(),\n",
        "                          layers.Dense(56,activation='relu'),\n",
        "                          layers.Dense(10)\n",
        "\n",
        "])"
      ],
      "execution_count": null,
      "outputs": []
    },
    {
      "cell_type": "code",
      "metadata": {
        "id": "YOIswEAd_1No"
      },
      "source": [
        "model.compile(\n",
        "    loss = keras.losses.SparseCategoricalCrossentropy(from_logits=True),\n",
        "    optimizer = keras.optimizers.Adam(learning_rate=3e-4),\n",
        "    metrics ='accuracy'\n",
        "\n",
        ")"
      ],
      "execution_count": null,
      "outputs": []
    },
    {
      "cell_type": "code",
      "metadata": {
        "colab": {
          "base_uri": "https://localhost:8080/"
        },
        "id": "QHlWb303A9aY",
        "outputId": "5e398728-403a-46ab-e33d-8e76f2f1d7ec"
      },
      "source": [
        "model.fit(x_train, y_train, epochs = 10 ,validation_data=(x_test, y_test))\n",
        "model.evaluate(x_test, y_test, batch_size = 56, verbose = 2) "
      ],
      "execution_count": null,
      "outputs": [
        {
          "output_type": "stream",
          "name": "stdout",
          "text": [
            "Epoch 1/10\n",
            "1875/1875 [==============================] - 10s 5ms/step - loss: 1.3057 - accuracy: 0.5441 - val_loss: 0.8579 - val_accuracy: 0.7163\n",
            "Epoch 2/10\n",
            "1875/1875 [==============================] - 9s 5ms/step - loss: 0.5819 - accuracy: 0.8201 - val_loss: 0.4285 - val_accuracy: 0.8663\n",
            "Epoch 3/10\n",
            "1875/1875 [==============================] - 9s 5ms/step - loss: 0.3677 - accuracy: 0.8890 - val_loss: 0.2883 - val_accuracy: 0.9138\n",
            "Epoch 4/10\n",
            "1875/1875 [==============================] - 9s 5ms/step - loss: 0.2851 - accuracy: 0.9143 - val_loss: 0.2288 - val_accuracy: 0.9307\n",
            "Epoch 5/10\n",
            "1875/1875 [==============================] - 9s 5ms/step - loss: 0.2362 - accuracy: 0.9274 - val_loss: 0.1875 - val_accuracy: 0.9427\n",
            "Epoch 6/10\n",
            "1875/1875 [==============================] - 9s 5ms/step - loss: 0.2034 - accuracy: 0.9380 - val_loss: 0.1682 - val_accuracy: 0.9484\n",
            "Epoch 7/10\n",
            "1875/1875 [==============================] - 9s 5ms/step - loss: 0.1801 - accuracy: 0.9447 - val_loss: 0.1504 - val_accuracy: 0.9519\n",
            "Epoch 8/10\n",
            "1875/1875 [==============================] - 9s 5ms/step - loss: 0.1639 - accuracy: 0.9498 - val_loss: 0.1474 - val_accuracy: 0.9526\n",
            "Epoch 9/10\n",
            "1875/1875 [==============================] - 9s 5ms/step - loss: 0.1511 - accuracy: 0.9536 - val_loss: 0.1256 - val_accuracy: 0.9614\n",
            "Epoch 10/10\n",
            "1875/1875 [==============================] - 9s 5ms/step - loss: 0.1411 - accuracy: 0.9561 - val_loss: 0.1159 - val_accuracy: 0.9624\n",
            "179/179 - 0s - loss: 0.1159 - accuracy: 0.9624\n"
          ]
        },
        {
          "output_type": "execute_result",
          "data": {
            "text/plain": [
              "[0.1158931627869606, 0.9624000191688538]"
            ]
          },
          "metadata": {},
          "execution_count": 89
        }
      ]
    },
    {
      "cell_type": "code",
      "metadata": {
        "id": "AgbWvciXEI0E"
      },
      "source": [],
      "execution_count": null,
      "outputs": []
    }
  ]
}